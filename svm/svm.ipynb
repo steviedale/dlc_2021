{
 "cells": [
  {
   "cell_type": "code",
   "execution_count": null,
   "metadata": {},
   "outputs": [],
   "source": [
    "# import the necessary packages\n",
    "from sklearn.svm import SVC\n",
    "from sklearn.model_selection import KFold\n",
    "from sklearn.model_selection import learning_curve\n",
    "from imutils import paths\n",
    "import numpy as np\n",
    "import argparse\n",
    "import imutils\n",
    "import cv2\n",
    "import os\n",
    "import matplotlib.pyplot as plt\n",
    "import pandas as pd\n",
    "from tqdm import tqdm\n",
    "import time"
   ]
  },
  {
   "cell_type": "code",
   "execution_count": null,
   "metadata": {},
   "outputs": [],
   "source": [
    "LEARNER_TITLE = 'Support Vector Machine'\n",
    "LEARNER = 'svm'\n",
    "COLOR_HISTOGRAMS = 'color histogram'\n",
    "PIXELS = 'pixels'\n",
    "K = 5\n",
    "CRITERION = 'linear', 'poly_2', 'poly_3'\n",
    "\n",
    "INPUT_TYPES = PIXELS, COLOR_HISTOGRAMS\n",
    "COLORS = {\n",
    "    'linear': 'green',\n",
    "    'poly_2': 'red',\n",
    "    'poly_3': 'blue'\n",
    "}\n",
    "LINE_TYPES = {\n",
    "    PIXELS: '-',\n",
    "    COLOR_HISTOGRAMS: '--'\n",
    "}"
   ]
  },
  {
   "cell_type": "code",
   "execution_count": null,
   "metadata": {},
   "outputs": [],
   "source": [
    "def image_to_feature_vector(image, size=(32, 32)):\n",
    "\t# resize the image to a fixed size, then flatten the image into\n",
    "\t# a list of raw pixel intensities\n",
    "\treturn cv2.resize(image, size).flatten()"
   ]
  },
  {
   "cell_type": "code",
   "execution_count": null,
   "metadata": {},
   "outputs": [],
   "source": [
    "def extract_color_histogram(image, bins=(8, 8, 8)):\n",
    "\t# extract a 3D color histogram from the HSV color space using\n",
    "\t# the supplied number of `bins` per channel\n",
    "\thsv = cv2.cvtColor(image, cv2.COLOR_BGR2HSV)\n",
    "\thist = cv2.calcHist([hsv], [0, 1, 2], None, bins,\n",
    "\t\t[0, 180, 0, 256, 0, 256])\n",
    "\t# handle normalizing the histogram if we are using OpenCV 2.4.X\n",
    "\tif imutils.is_cv2():\n",
    "\t\thist = cv2.normalize(hist)\n",
    "\t# otherwise, perform \"in place\" normalization in OpenCV 3 (I\n",
    "\t# personally hate the way this is done\n",
    "\telse:\n",
    "\t\tcv2.normalize(hist, hist)\n",
    "\t# return the flattened histogram as the feature vector\n",
    "\treturn hist.flatten()"
   ]
  },
  {
   "cell_type": "code",
   "execution_count": null,
   "metadata": {},
   "outputs": [],
   "source": [
    "df = pd.read_csv('../dataset/dataframes/10k.csv')"
   ]
  },
  {
   "cell_type": "code",
   "execution_count": null,
   "metadata": {},
   "outputs": [],
   "source": [
    "for set_i in df['set'].unique():\n",
    "    print(f\"{set_i}: {np.count_nonzero(df['set'] == set_i)}\")"
   ]
  },
  {
   "cell_type": "code",
   "execution_count": null,
   "metadata": {},
   "outputs": [],
   "source": [
    "# loop over the input images\n",
    "images = []\n",
    "features = []\n",
    "labels = []\n",
    "print(len(df))\n",
    "for i, row in tqdm(df.iterrows()):\n",
    "\t# load the image and extract the class label (assuming that our\n",
    "\t# path as the format: /path/to/dataset/{class}.{image_num}.jpg\n",
    "\timage = cv2.imread(row['path'])\n",
    "\tlabel = row['label']\n",
    "\t# extract raw pixel intensity \"features\", followed by a color\n",
    "\t# histogram to characterize the color distribution of the pixels\n",
    "\t# in the image\n",
    "\tpixels = image_to_feature_vector(image)\n",
    "\thist = extract_color_histogram(image)\n",
    "\t# update the raw images, features, and labels matricies,\n",
    "\t# respectively\n",
    "\tset_str = row['set']\n",
    "\timages.append(pixels)\n",
    "\tfeatures.append(hist)\n",
    "\tlabels.append(label)"
   ]
  },
  {
   "cell_type": "code",
   "execution_count": null,
   "metadata": {},
   "outputs": [],
   "source": [
    "images = np.array(images)\n",
    "features = np.array(features)\n",
    "labels = np.array(labels)\n",
    "\n",
    "print(\"[INFO] pixels matrix: {:.2f}MB\".format(images.nbytes / (1024 * 1000.0)))\n",
    "print(\"[INFO] features matrix: {:.2f}MB\".format(features.nbytes / (1024 * 1000.0)))"
   ]
  },
  {
   "cell_type": "code",
   "execution_count": null,
   "metadata": {},
   "outputs": [],
   "source": [
    "kf = KFold(K)\n",
    "kf.shuffle = True"
   ]
  },
  {
   "cell_type": "code",
   "execution_count": null,
   "metadata": {},
   "outputs": [],
   "source": [
    "estimator_dict = {}\n",
    "for criterion in CRITERION:\n",
    "    if 'poly' in criterion:\n",
    "        estimator_dict[criterion] = SVC(kernel='poly', C=1, random_state=0, degree=int(criterion[-1]))\n",
    "    else:\n",
    "        estimator_dict[criterion] = SVC(kernel=criterion, C=1, random_state=0)"
   ]
  },
  {
   "cell_type": "code",
   "execution_count": null,
   "metadata": {},
   "outputs": [],
   "source": [
    "inputs = {COLOR_HISTOGRAMS: features, PIXELS: images}\n",
    "common_params_dict = {}\n",
    "for input_type, X in inputs.items():\n",
    "    common_params_dict[input_type] = {\n",
    "        \"X\": X,\n",
    "        \"y\": labels,\n",
    "        \"train_sizes\": np.linspace(0.1, 1.0, 5),\n",
    "        \"cv\": kf,\n",
    "        \"n_jobs\": 4,\n",
    "        \"return_times\": True,\n",
    "    }"
   ]
  },
  {
   "cell_type": "code",
   "execution_count": 12,
   "metadata": {},
   "outputs": [],
   "source": [
    "train_sizes_dict = {}\n",
    "train_scores_dict = {}\n",
    "test_scores_dict = {}\n",
    "fit_times_dict = {}\n",
    "score_times_dict = {}\n",
    "\n",
    "for criterion, estimator in estimator_dict.items():\n",
    "\n",
    "    train_sizes_dict[criterion] = {}\n",
    "    train_scores_dict[criterion] = {}\n",
    "    test_scores_dict[criterion] = {}\n",
    "    fit_times_dict[criterion] = {}\n",
    "    score_times_dict[criterion] = {}\n",
    "\n",
    "    for input_type, common_params in common_params_dict.items():\n",
    "        train_sizes, train_scores, test_scores, fit_times, score_times = learning_curve(estimator, **common_params)\n",
    "\n",
    "        train_sizes_dict[criterion][input_type] = train_sizes\n",
    "        train_scores_dict[criterion][input_type] = train_scores\n",
    "        test_scores_dict[criterion][input_type] = test_scores\n",
    "        fit_times_dict[criterion][input_type] = fit_times\n",
    "        score_times_dict[criterion][input_type] = score_times"
   ]
  },
  {
   "cell_type": "code",
   "execution_count": null,
   "metadata": {},
   "outputs": [],
   "source": [
    "plt.figure(figsize=(10, 10))\n",
    "\n",
    "min_x = np.inf\n",
    "max_x = -np.inf\n",
    "for criterion in CRITERION:\n",
    "    for input_type in INPUT_TYPES:\n",
    "        train_sizes = train_sizes_dict[criterion][input_type]\n",
    "        train_scores = train_scores_dict[criterion][input_type]\n",
    "        max_x = max(max_x, train_sizes.max())\n",
    "        min_x = min(min_x, train_sizes.min())\n",
    "\n",
    "        plt.plot(train_sizes, train_scores.mean(axis=1), LINE_TYPES[input_type], color=COLORS[criterion], label=f\"{criterion} - {input_type}\")\n",
    "\n",
    "plt.plot([min_x, max_x], [0.03, 0.03], '--', color='black', label='chance', linewidth=2)\n",
    "plt.xlabel(\"# of Training Samples\")\n",
    "plt.ylabel(\"Accuracy\")\n",
    "plt.title(f\"{LEARNER_TITLE} - Learning Curve - Train Accuracy\")\n",
    "plt.legend()\n",
    "plt.savefig(f'results/{LEARNER}_train_accuracy.png')"
   ]
  },
  {
   "cell_type": "code",
   "execution_count": null,
   "metadata": {},
   "outputs": [],
   "source": [
    "plt.figure(figsize=(10, 10))\n",
    "\n",
    "min_x = np.inf\n",
    "max_x = -np.inf\n",
    "for criterion in CRITERION:\n",
    "    for input_type in INPUT_TYPES:\n",
    "        train_sizes = train_sizes_dict[criterion][input_type]\n",
    "        test_scores = test_scores_dict[criterion][input_type]\n",
    "        max_x = max(max_x, train_sizes.max())\n",
    "        min_x = min(min_x, train_sizes.min())\n",
    "\n",
    "        plt.plot(train_sizes, test_scores.mean(axis=1), LINE_TYPES[input_type], color=COLORS[criterion], label=f\"{criterion} - {input_type}\")\n",
    "\n",
    "plt.plot([min_x, max_x], [0.03, 0.03], '--', color='black', label='chance', linewidth=2)\n",
    "plt.xlabel(\"# of Training Samples\")\n",
    "plt.ylabel(\"Accuracy\")\n",
    "plt.title(f\"{LEARNER_TITLE} - Learning Curve - Test Accuracy\")\n",
    "plt.legend()\n",
    "plt.savefig(f'results/{LEARNER}_test_accuracy.png')"
   ]
  },
  {
   "cell_type": "code",
   "execution_count": null,
   "metadata": {},
   "outputs": [],
   "source": [
    "plt.figure(figsize=(10, 10))\n",
    "\n",
    "for criterion in CRITERION:\n",
    "    for input_type in INPUT_TYPES:\n",
    "\n",
    "        train_sizes = train_sizes_dict[criterion][input_type]\n",
    "        fit_times = fit_times_dict[criterion][input_type]\n",
    "\n",
    "        plt.plot(train_sizes, fit_times.mean(axis=1), LINE_TYPES[input_type], color=COLORS[criterion], label=f\"{criterion} - {input_type}\")\n",
    "\n",
    "plt.xlabel(\"# of Training Samples\")\n",
    "plt.ylabel(\"Time (s)\")\n",
    "plt.title(f\"{LEARNER_TITLE} - Training Time\")\n",
    "plt.legend()\n",
    "plt.savefig(f'results/{LEARNER}_training_time.png')"
   ]
  },
  {
   "cell_type": "code",
   "execution_count": null,
   "metadata": {},
   "outputs": [],
   "source": [
    "plt.figure(figsize=(10, 10))\n",
    "\n",
    "for criterion in CRITERION:\n",
    "    for input_type in INPUT_TYPES:\n",
    "\n",
    "        train_sizes = train_sizes_dict[criterion][input_type]\n",
    "        score_times = score_times_dict[criterion][input_type]\n",
    "\n",
    "        plt.plot(train_sizes, score_times.mean(axis=1), LINE_TYPES[input_type], color=COLORS[criterion], label=f\"{criterion} - {input_type}\")\n",
    "\n",
    "plt.xlabel(\"# of Training Samples\")\n",
    "plt.ylabel(\"Time (s)\")\n",
    "plt.title(f\"{LEARNER_TITLE} - Evaluation Time\")\n",
    "plt.legend()\n",
    "plt.savefig(f'results/{LEARNER}_evaluation_time.png')"
   ]
  },
  {
   "cell_type": "code",
   "execution_count": null,
   "metadata": {},
   "outputs": [],
   "source": []
  }
 ],
 "metadata": {
  "kernelspec": {
   "display_name": "Python 3.8.10 ('venv': venv)",
   "language": "python",
   "name": "python3"
  },
  "language_info": {
   "codemirror_mode": {
    "name": "ipython",
    "version": 3
   },
   "file_extension": ".py",
   "mimetype": "text/x-python",
   "name": "python",
   "nbconvert_exporter": "python",
   "pygments_lexer": "ipython3",
   "version": "3.8.10"
  },
  "orig_nbformat": 4,
  "vscode": {
   "interpreter": {
    "hash": "5b213416918cf696a1b7fea3af8c3ff522f22ef97f3441aef2ecdf84cd569ee9"
   }
  }
 },
 "nbformat": 4,
 "nbformat_minor": 2
}
