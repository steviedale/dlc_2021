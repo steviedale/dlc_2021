{
 "cells": [
  {
   "cell_type": "code",
   "execution_count": null,
   "metadata": {},
   "outputs": [],
   "source": [
    "# import the necessary packages\n",
    "from sklearn.neighbors import KNeighborsClassifier\n",
    "from imutils import paths\n",
    "import numpy as np\n",
    "import argparse\n",
    "import imutils\n",
    "import cv2\n",
    "import os\n",
    "import matplotlib.pyplot as plt\n",
    "import pandas as pd\n",
    "from tqdm import tqdm\n",
    "import time"
   ]
  },
  {
   "cell_type": "code",
   "execution_count": null,
   "metadata": {},
   "outputs": [],
   "source": [
    "def image_to_feature_vector(image, size=(32, 32)):\n",
    "\t# resize the image to a fixed size, then flatten the image into\n",
    "\t# a list of raw pixel intensities\n",
    "\treturn cv2.resize(image, size).flatten()"
   ]
  },
  {
   "cell_type": "code",
   "execution_count": null,
   "metadata": {},
   "outputs": [],
   "source": [
    "def extract_color_histogram(image, bins=(8, 8, 8)):\n",
    "\t# extract a 3D color histogram from the HSV color space using\n",
    "\t# the supplied number of `bins` per channel\n",
    "\thsv = cv2.cvtColor(image, cv2.COLOR_BGR2HSV)\n",
    "\thist = cv2.calcHist([hsv], [0, 1, 2], None, bins,\n",
    "\t\t[0, 180, 0, 256, 0, 256])\n",
    "\t# handle normalizing the histogram if we are using OpenCV 2.4.X\n",
    "\tif imutils.is_cv2():\n",
    "\t\thist = cv2.normalize(hist)\n",
    "\t# otherwise, perform \"in place\" normalization in OpenCV 3 (I\n",
    "\t# personally hate the way this is done\n",
    "\telse:\n",
    "\t\tcv2.normalize(hist, hist)\n",
    "\t# return the flattened histogram as the feature vector\n",
    "\treturn hist.flatten()"
   ]
  },
  {
   "cell_type": "code",
   "execution_count": null,
   "metadata": {},
   "outputs": [],
   "source": [
    "df = pd.read_csv('../dataset/dataframes/10k.csv')"
   ]
  },
  {
   "cell_type": "code",
   "execution_count": null,
   "metadata": {},
   "outputs": [],
   "source": [
    "for set_i in df['set'].unique():\n",
    "    print(f\"{set_i}: {np.count_nonzero(df['set'] == set_i)}\")"
   ]
  },
  {
   "cell_type": "code",
   "execution_count": null,
   "metadata": {},
   "outputs": [],
   "source": [
    "# grab the list of images that we'll be describing\n",
    "print(\"[INFO] describing images...\")\n",
    "# initialize the raw pixel intensities matrix, the features matrix,\n",
    "# and labels list\n",
    "images = {}\n",
    "features = {}\n",
    "labels = {}\n",
    "for set_str in df['set'].unique():\n",
    "    images[set_str] = []\n",
    "    features[set_str] = []\n",
    "    labels[set_str] = []"
   ]
  },
  {
   "cell_type": "code",
   "execution_count": null,
   "metadata": {},
   "outputs": [],
   "source": [
    "# loop over the input images\n",
    "print(len(df))\n",
    "for i, row in tqdm(df.iterrows()):\n",
    "\t# load the image and extract the class label (assuming that our\n",
    "\t# path as the format: /path/to/dataset/{class}.{image_num}.jpg\n",
    "\timage = cv2.imread(row['path'])\n",
    "\tlabel = row['label']\n",
    "\t# extract raw pixel intensity \"features\", followed by a color\n",
    "\t# histogram to characterize the color distribution of the pixels\n",
    "\t# in the image\n",
    "\tpixels = image_to_feature_vector(image)\n",
    "\thist = extract_color_histogram(image)\n",
    "\t# update the raw images, features, and labels matricies,\n",
    "\t# respectively\n",
    "\tset_str = row['set']\n",
    "\timages[set_str].append(pixels)\n",
    "\tfeatures[set_str].append(hist)\n",
    "\tlabels[set_str].append(label)"
   ]
  },
  {
   "cell_type": "code",
   "execution_count": null,
   "metadata": {},
   "outputs": [],
   "source": [
    "for set_str in df['set'].unique():\n",
    "    images[set_str] = np.array(images[set_str])\n",
    "    features[set_str] = np.array(features[set_str])\n",
    "    labels[set_str] = np.array(labels[set_str])\n",
    "\n",
    "    print(set_str)\n",
    "    print(\"[INFO] pixels matrix: {:.2f}MB\".format(images[set_str].nbytes / (1024 * 1000.0)))\n",
    "    print(\"[INFO] features matrix: {:.2f}MB\".format(features[set_str].nbytes / (1024 * 1000.0)))"
   ]
  },
  {
   "cell_type": "code",
   "execution_count": 9,
   "metadata": {},
   "outputs": [
    {
     "name": "stdout",
     "output_type": "stream",
     "text": [
      "\tAccuracy: 0.641\n",
      "\tFit Time: 1.5726685523986817e-07\n",
      "\tEval Time: 0.0009356241226196289\n",
      "\tAccuracy: 0.6585\n",
      "\tFit Time: 4.3907761573791506e-07\n",
      "\tEval Time: 0.00037012135982513426\n",
      "\tAccuracy: 0.6455\n",
      "\tFit Time: 5.331039428710938e-07\n",
      "\tEval Time: 0.00039397799968719484\n",
      "\tAccuracy: 0.635\n",
      "\tFit Time: 4.3198466300964353e-07\n",
      "\tEval Time: 0.00031164133548736573\n",
      "\tAccuracy: 0.6265\n",
      "\tFit Time: 4.4330954551696777e-07\n",
      "\tEval Time: 0.00030446982383728027\n"
     ]
    },
    {
     "name": "stderr",
     "output_type": "stream",
     "text": [
      "  9%|▉         | 1/11 [00:13<02:11, 13.15s/it]"
     ]
    },
    {
     "name": "stdout",
     "output_type": "stream",
     "text": [
      "\tAccuracy: 0.633\n",
      "\tFit Time: 4.303157329559326e-07\n",
      "\tEval Time: 0.00029199624061584473\n",
      "k: 2\n",
      "\tAccuracy: 0.62\n",
      "\tFit Time: 1.6430020332336425e-07\n",
      "\tEval Time: 0.0009867879152297974\n",
      "\tAccuracy: 0.6065\n",
      "\tFit Time: 1.6814470291137696e-07\n",
      "\tEval Time: 0.0009527803659439087\n",
      "\tAccuracy: 0.619\n",
      "\tFit Time: 1.5801191329956054e-07\n",
      "\tEval Time: 0.0010300974845886231\n",
      "\tAccuracy: 0.6125\n",
      "\tFit Time: 1.652240753173828e-07\n",
      "\tEval Time: 0.001026341676712036\n",
      "\tAccuracy: 0.6175\n",
      "\tFit Time: 1.6301870346069335e-07\n",
      "\tEval Time: 0.0009799071550369264\n",
      "\tAccuracy: 0.666\n",
      "\tFit Time: 4.343390464782715e-07\n",
      "\tEval Time: 0.0003208822011947632\n",
      "\tAccuracy: 0.6555\n",
      "\tFit Time: 4.5123696327209473e-07\n",
      "\tEval Time: 0.0003187791109085083\n",
      "\tAccuracy: 0.639\n",
      "\tFit Time: 7.240772247314453e-07\n",
      "\tEval Time: 0.00030015337467193605\n",
      "\tAccuracy: 0.6345\n",
      "\tFit Time: 5.251169204711914e-07\n",
      "\tEval Time: 0.0003059259653091431\n"
     ]
    },
    {
     "name": "stderr",
     "output_type": "stream",
     "text": [
      " 18%|█▊        | 2/11 [00:26<01:58, 13.16s/it]"
     ]
    },
    {
     "name": "stdout",
     "output_type": "stream",
     "text": [
      "\tAccuracy: 0.64\n",
      "\tFit Time: 4.456937313079834e-07\n",
      "\tEval Time: 0.0003148980140686035\n",
      "k: 3\n",
      "\tAccuracy: 0.647\n",
      "\tFit Time: 1.583099365234375e-07\n",
      "\tEval Time: 0.0009963974952697755\n",
      "\tAccuracy: 0.638\n",
      "\tFit Time: 1.5735626220703126e-07\n",
      "\tEval Time: 0.0009735426902770996\n",
      "\tAccuracy: 0.638\n",
      "\tFit Time: 1.7049908638000489e-07\n",
      "\tEval Time: 0.0010106818675994873\n",
      "\tAccuracy: 0.651\n",
      "\tFit Time: 1.608729362487793e-07\n",
      "\tEval Time: 0.0010384039878845214\n",
      "\tAccuracy: 0.6435\n",
      "\tFit Time: 1.5398859977722167e-07\n",
      "\tEval Time: 0.000982329249382019\n",
      "\tAccuracy: 0.6665\n",
      "\tFit Time: 4.70280647277832e-07\n",
      "\tEval Time: 0.0003426642417907715\n",
      "\tAccuracy: 0.6525\n",
      "\tFit Time: 6.017088890075684e-07\n",
      "\tEval Time: 0.00031383955478668214\n",
      "\tAccuracy: 0.651\n",
      "\tFit Time: 4.730522632598877e-07\n",
      "\tEval Time: 0.0003237628936767578\n",
      "\tAccuracy: 0.6405\n",
      "\tFit Time: 4.3633580207824707e-07\n",
      "\tEval Time: 0.0003452653884887695\n"
     ]
    },
    {
     "name": "stderr",
     "output_type": "stream",
     "text": [
      " 27%|██▋       | 3/11 [00:39<01:46, 13.28s/it]"
     ]
    },
    {
     "name": "stdout",
     "output_type": "stream",
     "text": [
      "\tAccuracy: 0.63\n",
      "\tFit Time: 4.348456859588623e-07\n",
      "\tEval Time: 0.00033441245555877687\n",
      "k: 4\n",
      "\tAccuracy: 0.6305\n",
      "\tFit Time: 1.6823410987854003e-07\n",
      "\tEval Time: 0.0010574716329574585\n",
      "\tAccuracy: 0.6265\n",
      "\tFit Time: 1.6519427299499512e-07\n",
      "\tEval Time: 0.0009385727643966675\n",
      "\tAccuracy: 0.634\n",
      "\tFit Time: 1.652836799621582e-07\n",
      "\tEval Time: 0.001008738398551941\n",
      "\tAccuracy: 0.624\n",
      "\tFit Time: 1.697838306427002e-07\n",
      "\tEval Time: 0.001086194634437561\n",
      "\tAccuracy: 0.6385\n",
      "\tFit Time: 1.7279386520385742e-07\n",
      "\tEval Time: 0.001232542872428894\n",
      "\tAccuracy: 0.672\n",
      "\tFit Time: 4.881024360656738e-07\n",
      "\tEval Time: 0.00041732704639434816\n",
      "\tAccuracy: 0.662\n",
      "\tFit Time: 5.107820034027099e-07\n",
      "\tEval Time: 0.00039538955688476563\n",
      "\tAccuracy: 0.6525\n",
      "\tFit Time: 4.653036594390869e-07\n",
      "\tEval Time: 0.00035090017318725584\n",
      "\tAccuracy: 0.644\n",
      "\tFit Time: 4.284083843231201e-07\n",
      "\tEval Time: 0.00033902597427368166\n"
     ]
    },
    {
     "name": "stderr",
     "output_type": "stream",
     "text": [
      " 36%|███▋      | 4/11 [00:54<01:36, 13.73s/it]"
     ]
    },
    {
     "name": "stdout",
     "output_type": "stream",
     "text": [
      "\tAccuracy: 0.634\n",
      "\tFit Time: 4.423856735229492e-07\n",
      "\tEval Time: 0.000340546727180481\n",
      "k: 5\n",
      "\tAccuracy: 0.649\n",
      "\tFit Time: 1.576244831085205e-07\n",
      "\tEval Time: 0.0010387455224990846\n",
      "\tAccuracy: 0.6435\n",
      "\tFit Time: 1.6194581985473633e-07\n",
      "\tEval Time: 0.001063275694847107\n",
      "\tAccuracy: 0.644\n",
      "\tFit Time: 1.576840877532959e-07\n",
      "\tEval Time: 0.0010318591594696044\n",
      "\tAccuracy: 0.6475\n",
      "\tFit Time: 1.7699599266052246e-07\n",
      "\tEval Time: 0.0010836174488067626\n",
      "\tAccuracy: 0.652\n",
      "\tFit Time: 1.6051530838012696e-07\n",
      "\tEval Time: 0.0011091678142547607\n",
      "\tAccuracy: 0.682\n",
      "\tFit Time: 1.1378228664398194e-06\n",
      "\tEval Time: 0.00039435279369354247\n",
      "\tAccuracy: 0.663\n",
      "\tFit Time: 7.753372192382812e-07\n",
      "\tEval Time: 0.0003930515050888062\n",
      "\tAccuracy: 0.6485\n",
      "\tFit Time: 7.344186305999756e-07\n",
      "\tEval Time: 0.0003701739311218262\n",
      "\tAccuracy: 0.647\n",
      "\tFit Time: 4.3520331382751464e-07\n",
      "\tEval Time: 0.00039420449733734134\n"
     ]
    },
    {
     "name": "stderr",
     "output_type": "stream",
     "text": [
      " 45%|████▌     | 5/11 [01:08<01:24, 14.08s/it]"
     ]
    },
    {
     "name": "stdout",
     "output_type": "stream",
     "text": [
      "\tAccuracy: 0.632\n",
      "\tFit Time: 5.804598331451416e-07\n",
      "\tEval Time: 0.00040538454055786134\n",
      "k: 10\n",
      "\tAccuracy: 0.639\n",
      "\tFit Time: 2.522170543670654e-07\n",
      "\tEval Time: 0.0011190981864929199\n",
      "\tAccuracy: 0.6335\n",
      "\tFit Time: 1.6865134239196777e-07\n",
      "\tEval Time: 0.0010718958377838135\n",
      "\tAccuracy: 0.6495\n",
      "\tFit Time: 1.6137957572937012e-07\n",
      "\tEval Time: 0.0011427910327911376\n",
      "\tAccuracy: 0.64\n",
      "\tFit Time: 1.53958797454834e-07\n",
      "\tEval Time: 0.001031708002090454\n",
      "\tAccuracy: 0.6525\n",
      "\tFit Time: 1.7353892326354982e-07\n",
      "\tEval Time: 0.0010530166625976561\n",
      "\tAccuracy: 0.6805\n",
      "\tFit Time: 4.792511463165283e-07\n",
      "\tEval Time: 0.00043998336791992187\n",
      "\tAccuracy: 0.664\n",
      "\tFit Time: 5.361735820770264e-07\n",
      "\tEval Time: 0.00034629178047180175\n",
      "\tAccuracy: 0.665\n",
      "\tFit Time: 5.384385585784912e-07\n",
      "\tEval Time: 0.00034641945362091063\n",
      "\tAccuracy: 0.6425\n",
      "\tFit Time: 5.59687614440918e-07\n",
      "\tEval Time: 0.00036211156845092774\n"
     ]
    },
    {
     "name": "stderr",
     "output_type": "stream",
     "text": [
      " 55%|█████▍    | 6/11 [01:23<01:11, 14.29s/it]"
     ]
    },
    {
     "name": "stdout",
     "output_type": "stream",
     "text": [
      "\tAccuracy: 0.638\n",
      "\tFit Time: 6.165504455566406e-07\n",
      "\tEval Time: 0.00038988208770751956\n",
      "k: 15\n",
      "\tAccuracy: 0.6395\n",
      "\tFit Time: 2.0834803581237792e-07\n",
      "\tEval Time: 0.0010618399381637574\n",
      "\tAccuracy: 0.6315\n",
      "\tFit Time: 1.9860267639160155e-07\n",
      "\tEval Time: 0.001101470708847046\n",
      "\tAccuracy: 0.6595\n",
      "\tFit Time: 1.9112229347229005e-07\n",
      "\tEval Time: 0.0011186177730560303\n",
      "\tAccuracy: 0.6575\n",
      "\tFit Time: 1.6549229621887207e-07\n",
      "\tEval Time: 0.0010907630920410157\n",
      "\tAccuracy: 0.651\n",
      "\tFit Time: 1.838207244873047e-07\n",
      "\tEval Time: 0.0010739783048629762\n",
      "\tAccuracy: 0.666\n",
      "\tFit Time: 6.106793880462646e-07\n",
      "\tEval Time: 0.0003920656442642212\n",
      "\tAccuracy: 0.658\n",
      "\tFit Time: 4.347264766693115e-07\n",
      "\tEval Time: 0.00035981738567352297\n",
      "\tAccuracy: 0.6725\n",
      "\tFit Time: 5.352497100830078e-07\n",
      "\tEval Time: 0.00037131309509277346\n",
      "\tAccuracy: 0.647\n",
      "\tFit Time: 4.3708086013793946e-07\n",
      "\tEval Time: 0.0004032251834869385\n"
     ]
    },
    {
     "name": "stderr",
     "output_type": "stream",
     "text": [
      " 64%|██████▎   | 7/11 [01:38<00:57, 14.46s/it]"
     ]
    },
    {
     "name": "stdout",
     "output_type": "stream",
     "text": [
      "\tAccuracy: 0.6325\n",
      "\tFit Time: 5.623996257781982e-07\n",
      "\tEval Time: 0.00037646079063415527\n",
      "k: 20\n",
      "\tAccuracy: 0.6245\n",
      "\tFit Time: 1.8540024757385254e-07\n",
      "\tEval Time: 0.0010338393449783325\n",
      "\tAccuracy: 0.626\n",
      "\tFit Time: 1.6838312149047853e-07\n",
      "\tEval Time: 0.0012957878112792968\n",
      "\tAccuracy: 0.667\n",
      "\tFit Time: 2.863407135009766e-07\n",
      "\tEval Time: 0.0010951204299926758\n",
      "\tAccuracy: 0.651\n",
      "\tFit Time: 1.7088651657104492e-07\n",
      "\tEval Time: 0.001246752381324768\n",
      "\tAccuracy: 0.6475\n",
      "\tFit Time: 2.8502941131591797e-07\n",
      "\tEval Time: 0.0013419078588485717\n",
      "\tAccuracy: 0.675\n",
      "\tFit Time: 4.679858684539795e-07\n",
      "\tEval Time: 0.000389945387840271\n",
      "\tAccuracy: 0.653\n",
      "\tFit Time: 4.3907761573791506e-07\n",
      "\tEval Time: 0.0004484677314758301\n",
      "\tAccuracy: 0.6675\n",
      "\tFit Time: 4.94241714477539e-07\n",
      "\tEval Time: 0.00040049803256988527\n",
      "\tAccuracy: 0.6455\n",
      "\tFit Time: 4.3055415153503416e-07\n",
      "\tEval Time: 0.00038032400608062746\n"
     ]
    },
    {
     "name": "stderr",
     "output_type": "stream",
     "text": [
      " 73%|███████▎  | 8/11 [01:54<00:44, 15.00s/it]"
     ]
    },
    {
     "name": "stdout",
     "output_type": "stream",
     "text": [
      "\tAccuracy: 0.6325\n",
      "\tFit Time: 4.999637603759766e-07\n",
      "\tEval Time: 0.0003846970796585083\n",
      "k: 30\n",
      "\tAccuracy: 0.622\n",
      "\tFit Time: 2.906322479248047e-07\n",
      "\tEval Time: 0.0011015058755874634\n",
      "\tAccuracy: 0.625\n",
      "\tFit Time: 1.729726791381836e-07\n",
      "\tEval Time: 0.0010996322631835938\n",
      "\tAccuracy: 0.6715\n",
      "\tFit Time: 1.6945600509643555e-07\n",
      "\tEval Time: 0.0010521622896194458\n",
      "\tAccuracy: 0.653\n",
      "\tFit Time: 2.594888210296631e-07\n",
      "\tEval Time: 0.0011008943319320678\n",
      "\tAccuracy: 0.646\n",
      "\tFit Time: 1.6194581985473633e-07\n",
      "\tEval Time: 0.0010949071645736694\n",
      "\tAccuracy: 0.6725\n",
      "\tFit Time: 5.233883857727051e-07\n",
      "\tEval Time: 0.00042945361137390137\n",
      "\tAccuracy: 0.6585\n",
      "\tFit Time: 4.4125318527221677e-07\n",
      "\tEval Time: 0.0003857724666595459\n",
      "\tAccuracy: 0.6515\n",
      "\tFit Time: 5.343854427337647e-07\n",
      "\tEval Time: 0.00046073079109191893\n",
      "\tAccuracy: 0.649\n",
      "\tFit Time: 6.16908073425293e-07\n",
      "\tEval Time: 0.000388993501663208\n"
     ]
    },
    {
     "name": "stderr",
     "output_type": "stream",
     "text": [
      " 82%|████████▏ | 9/11 [02:09<00:30, 15.04s/it]"
     ]
    },
    {
     "name": "stdout",
     "output_type": "stream",
     "text": [
      "\tAccuracy: 0.626\n",
      "\tFit Time: 5.356669425964356e-07\n",
      "\tEval Time: 0.0003912428617477417\n",
      "k: 40\n",
      "\tAccuracy: 0.6295\n",
      "\tFit Time: 1.7461180686950684e-07\n",
      "\tEval Time: 0.0010449644327163697\n",
      "\tAccuracy: 0.62\n",
      "\tFit Time: 1.8534064292907716e-07\n",
      "\tEval Time: 0.0010368508100509644\n",
      "\tAccuracy: 0.676\n",
      "\tFit Time: 1.868009567260742e-07\n",
      "\tEval Time: 0.0010305608510971069\n",
      "\tAccuracy: 0.648\n",
      "\tFit Time: 2.2614002227783203e-07\n",
      "\tEval Time: 0.0011403380632400513\n",
      "\tAccuracy: 0.6345\n",
      "\tFit Time: 1.8021464347839355e-07\n",
      "\tEval Time: 0.0011761146783828736\n",
      "\tAccuracy: 0.666\n",
      "\tFit Time: 5.713403224945068e-07\n",
      "\tEval Time: 0.0003891690969467163\n",
      "\tAccuracy: 0.663\n",
      "\tFit Time: 6.83605670928955e-07\n",
      "\tEval Time: 0.0004732702970504761\n",
      "\tAccuracy: 0.664\n",
      "\tFit Time: 5.610883235931397e-07\n",
      "\tEval Time: 0.0004732705354690552\n",
      "\tAccuracy: 0.643\n",
      "\tFit Time: 5.382299423217773e-07\n",
      "\tEval Time: 0.0003617619276046753\n"
     ]
    },
    {
     "name": "stderr",
     "output_type": "stream",
     "text": [
      " 91%|█████████ | 10/11 [02:24<00:15, 15.06s/it]"
     ]
    },
    {
     "name": "stdout",
     "output_type": "stream",
     "text": [
      "\tAccuracy: 0.62\n",
      "\tFit Time: 5.28186559677124e-07\n",
      "\tEval Time: 0.000369623064994812\n",
      "k: 50\n",
      "\tAccuracy: 0.624\n",
      "\tFit Time: 1.8015503883361816e-07\n",
      "\tEval Time: 0.0010609769821166993\n",
      "\tAccuracy: 0.618\n",
      "\tFit Time: 1.7446279525756836e-07\n",
      "\tEval Time: 0.0011195944547653198\n",
      "\tAccuracy: 0.673\n",
      "\tFit Time: 1.7145276069641114e-07\n",
      "\tEval Time: 0.0010836321115493775\n",
      "\tAccuracy: 0.641\n",
      "\tFit Time: 1.557767391204834e-07\n",
      "\tEval Time: 0.0011775192022323608\n",
      "\tAccuracy: 0.623\n",
      "\tFit Time: 1.939535140991211e-07\n",
      "\tEval Time: 0.001097322940826416\n",
      "\tAccuracy: 0.6715\n",
      "\tFit Time: 5.181729793548584e-07\n",
      "\tEval Time: 0.000486885666847229\n",
      "\tAccuracy: 0.656\n",
      "\tFit Time: 5.594491958618164e-07\n",
      "\tEval Time: 0.0004905900955200196\n",
      "\tAccuracy: 0.6515\n",
      "\tFit Time: 5.314350128173828e-07\n",
      "\tEval Time: 0.000404451847076416\n",
      "\tAccuracy: 0.644\n",
      "\tFit Time: 5.265474319458008e-07\n",
      "\tEval Time: 0.00035755693912506106\n"
     ]
    },
    {
     "name": "stderr",
     "output_type": "stream",
     "text": [
      "100%|██████████| 11/11 [02:40<00:00, 14.56s/it]"
     ]
    },
    {
     "name": "stdout",
     "output_type": "stream",
     "text": [
      "\tAccuracy: 0.6295\n",
      "\tFit Time: 5.300641059875489e-07\n",
      "\tEval Time: 0.0003580529689788818\n"
     ]
    },
    {
     "name": "stderr",
     "output_type": "stream",
     "text": [
      "\n"
     ]
    }
   ],
   "source": [
    "data = {'input_type': [], 'k': [], 'fit_time': [], 'eval_time': [], 'accuracy': [], 'test_set': []}\n",
    "for k in tqdm((1, 2, 3, 4, 5, 10, 15, 20, 30, 40, 50)):\n",
    "    print(f\"k: {k}\")\n",
    "    for input_type, input_data in ('images', images), ('features', features):\n",
    "        for set_str in df['set'].unique():\n",
    "            train_X = np.concatenate([d for s, d in input_data.items() if s != set_str])\n",
    "            train_y = np.concatenate([d for s, d in labels.items() if s != set_str])\n",
    "            test_X = input_data[set_str]\n",
    "            test_y = labels[set_str]\n",
    "\n",
    "            model = KNeighborsClassifier(n_neighbors=k, n_jobs=2)\n",
    "\n",
    "            # Train Decision Tree Classifer\n",
    "            t0 = time.time()\n",
    "            model.fit(train_X, train_y)\n",
    "            t1 = time.time()\n",
    "            fit_time = (t1 - t0) / len(train_X)\n",
    "\n",
    "            #Predict the response for test dataset\n",
    "            t0 = time.time()\n",
    "            acc = model.score(test_X, test_y)\n",
    "            t1 = time.time()\n",
    "            eval_time = (t1 - t0) / len(test_X)\n",
    "\n",
    "            print(f\"\\tAccuracy: {acc}\")\n",
    "            print(f\"\\tFit Time: {fit_time}\")\n",
    "            print(f\"\\tEval Time: {eval_time}\")\n",
    "\n",
    "            data['input_type'].append(input_type)\n",
    "            data['k'].append(k)\n",
    "            data['fit_time'].append(fit_time)\n",
    "            data['eval_time'].append(eval_time)\n",
    "            data['accuracy'].append(acc)\n",
    "            data['test_set'].append(set_str)\n",
    "\n",
    "            result_df = pd.DataFrame.from_dict(data)\n",
    "            result_df.to_csv('results/data_manual_cv.csv', index=False)"
   ]
  },
  {
   "cell_type": "code",
   "execution_count": null,
   "metadata": {},
   "outputs": [],
   "source": []
  }
 ],
 "metadata": {
  "kernelspec": {
   "display_name": "Python 3.8.10 ('venv': venv)",
   "language": "python",
   "name": "python3"
  },
  "language_info": {
   "codemirror_mode": {
    "name": "ipython",
    "version": 3
   },
   "file_extension": ".py",
   "mimetype": "text/x-python",
   "name": "python",
   "nbconvert_exporter": "python",
   "pygments_lexer": "ipython3",
   "version": "3.8.10"
  },
  "orig_nbformat": 4,
  "vscode": {
   "interpreter": {
    "hash": "34e790e7c6ff3e5bdb55f2daf92ca3e0b6efab15b587de18881a1f1c7244c642"
   }
  }
 },
 "nbformat": 4,
 "nbformat_minor": 2
}
