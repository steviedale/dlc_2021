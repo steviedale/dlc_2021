{
 "cells": [
  {
   "cell_type": "code",
   "execution_count": null,
   "metadata": {},
   "outputs": [],
   "source": [
    "import matplotlib.pyplot as plt\n",
    "import pandas as pd\n",
    "import numpy as np\n",
    "import os"
   ]
  },
  {
   "cell_type": "code",
   "execution_count": 2,
   "metadata": {},
   "outputs": [],
   "source": [
    "HYPE = 'n'\n",
    "HYPE_TITLE = 'N'\n",
    "METHOD = 'boosting'\n",
    "METHOD_TITLE = 'Boosting'"
   ]
  },
  {
   "cell_type": "code",
   "execution_count": 3,
   "metadata": {},
   "outputs": [
    {
     "data": {
      "text/plain": [
       "['data_manual_cv.csv']"
      ]
     },
     "execution_count": 3,
     "metadata": {},
     "output_type": "execute_result"
    }
   ],
   "source": [
    "dir = f\"../{METHOD}/results\"\n",
    "os.listdir(dir)"
   ]
  },
  {
   "cell_type": "code",
   "execution_count": null,
   "metadata": {},
   "outputs": [],
   "source": [
    "df = pd.read_csv(os.path.join(dir, 'data_manual_cv.csv'))"
   ]
  },
  {
   "cell_type": "code",
   "execution_count": null,
   "metadata": {},
   "outputs": [],
   "source": [
    "df.columns"
   ]
  },
  {
   "cell_type": "code",
   "execution_count": null,
   "metadata": {},
   "outputs": [],
   "source": [
    "new_df = df.drop(columns=['test_set', 'accuracy', 'eval_time', 'fit_time']).drop_duplicates()\n",
    "print(len(df))\n",
    "print(len(new_df))\n",
    "new_df.reset_index(drop=True, inplace=True)"
   ]
  },
  {
   "cell_type": "code",
   "execution_count": null,
   "metadata": {},
   "outputs": [],
   "source": [
    "for i, row in new_df.iterrows():\n",
    "    selection = df[np.logical_and(\n",
    "        df[HYPE] == row[HYPE],\n",
    "        df['input_type'] == row['input_type']\n",
    "    )]\n",
    "    assert(len(selection) == 5)\n",
    "    new_df.loc[i, 'accuracy'] = selection['accuracy'].mean()\n",
    "    new_df.loc[i, 'eval_time'] = selection['eval_time'].mean()\n",
    "    new_df.loc[i, 'fit_time'] = selection['fit_time'].mean()\n",
    "df = new_df"
   ]
  },
  {
   "cell_type": "code",
   "execution_count": null,
   "metadata": {},
   "outputs": [],
   "source": [
    "images_df = df[df['input_type'] == 'images']\n",
    "features_df = df[df['input_type'] == 'features']"
   ]
  },
  {
   "cell_type": "code",
   "execution_count": null,
   "metadata": {},
   "outputs": [],
   "source": [
    "plt.title(f\"DLC-2021 - {METHOD_TITLE} - {HYPE_TITLE} vs. Training Time\")\n",
    "plt.plot(images_df[HYPE], images_df['fit_time'], 'g-', label='raw pixels')\n",
    "plt.plot(features_df[HYPE], features_df['fit_time'], 'r-', label='histogram')\n",
    "plt.xlabel(HYPE_TITLE)\n",
    "plt.ylabel('Training Time (per sample)')\n",
    "plt.legend()\n",
    "plt.show()"
   ]
  },
  {
   "cell_type": "code",
   "execution_count": null,
   "metadata": {},
   "outputs": [],
   "source": [
    "plt.title(f\"DLC-2021 - {METHOD_TITLE} - {HYPE_TITLE} vs. Evaluation Time\")\n",
    "plt.plot(images_df[HYPE], images_df['eval_time'], 'g-', label='raw pixels')\n",
    "plt.plot(features_df[HYPE], features_df['eval_time'], 'r-', label='histogram')\n",
    "plt.xlabel(HYPE_TITLE)\n",
    "plt.ylabel('Evaluation Time (per sample)')\n",
    "plt.legend()\n",
    "plt.show()"
   ]
  },
  {
   "cell_type": "code",
   "execution_count": null,
   "metadata": {},
   "outputs": [],
   "source": [
    "plt.title(f\"DLC-2021 - {METHOD_TITLE} - {HYPE_TITLE} vs. Accuracy\")\n",
    "plt.plot(images_df[HYPE], images_df['accuracy'], 'g-', label='raw pixels')\n",
    "plt.plot(features_df[HYPE], features_df['accuracy'], 'r-', label='histogram')\n",
    "plt.plot((0, 30), (0.5, 0.5), 'b--', label='chance')\n",
    "plt.xlabel(HYPE_TITLE)\n",
    "plt.ylabel('Accuracy')\n",
    "plt.legend()\n",
    "plt.show()"
   ]
  },
  {
   "cell_type": "code",
   "execution_count": null,
   "metadata": {},
   "outputs": [],
   "source": [
    "df.sort_values('accuracy').iloc[-1]"
   ]
  },
  {
   "cell_type": "code",
   "execution_count": null,
   "metadata": {},
   "outputs": [],
   "source": []
  }
 ],
 "metadata": {
  "kernelspec": {
   "display_name": "Python 3.8.10 ('venv': venv)",
   "language": "python",
   "name": "python3"
  },
  "language_info": {
   "codemirror_mode": {
    "name": "ipython",
    "version": 3
   },
   "file_extension": ".py",
   "mimetype": "text/x-python",
   "name": "python",
   "nbconvert_exporter": "python",
   "pygments_lexer": "ipython3",
   "version": "3.8.10"
  },
  "orig_nbformat": 4,
  "vscode": {
   "interpreter": {
    "hash": "34e790e7c6ff3e5bdb55f2daf92ca3e0b6efab15b587de18881a1f1c7244c642"
   }
  }
 },
 "nbformat": 4,
 "nbformat_minor": 2
}
