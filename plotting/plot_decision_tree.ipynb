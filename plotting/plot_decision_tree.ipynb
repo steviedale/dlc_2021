{
 "cells": [
  {
   "cell_type": "code",
   "execution_count": null,
   "metadata": {},
   "outputs": [],
   "source": [
    "import matplotlib.pyplot as plt\n",
    "import pandas as pd\n",
    "import numpy as np\n",
    "import os"
   ]
  },
  {
   "cell_type": "code",
   "execution_count": null,
   "metadata": {},
   "outputs": [],
   "source": [
    "HYPE = 'criterion'\n",
    "HYPE_TITLE = 'Criterion'\n",
    "METHOD = 'decision_tree'\n",
    "METHOD_TITLE = 'Decision Tree'"
   ]
  },
  {
   "cell_type": "code",
   "execution_count": null,
   "metadata": {},
   "outputs": [],
   "source": [
    "dir = f\"../{METHOD}/results\"\n",
    "os.listdir(dir)"
   ]
  },
  {
   "cell_type": "code",
   "execution_count": null,
   "metadata": {},
   "outputs": [],
   "source": [
    "df = pd.read_csv(os.path.join(dir, 'data_manual_cv.csv'))"
   ]
  },
  {
   "cell_type": "code",
   "execution_count": null,
   "metadata": {},
   "outputs": [],
   "source": [
    "df.columns"
   ]
  },
  {
   "cell_type": "code",
   "execution_count": null,
   "metadata": {},
   "outputs": [],
   "source": [
    "new_df = df.drop(columns=['test_set', 'accuracy', 'eval_time', 'fit_time']).drop_duplicates()\n",
    "print(len(df))\n",
    "print(len(new_df))\n",
    "new_df.reset_index(drop=True, inplace=True)"
   ]
  },
  {
   "cell_type": "code",
   "execution_count": null,
   "metadata": {},
   "outputs": [],
   "source": [
    "for i, row in new_df.iterrows():\n",
    "    selection = df[np.logical_and(\n",
    "        df[HYPE] == row[HYPE],\n",
    "        df['input_type'] == row['input_type']\n",
    "    )]\n",
    "    assert(len(selection) == 5)\n",
    "    new_df.loc[i, 'accuracy'] = selection['accuracy'].mean()\n",
    "    new_df.loc[i, 'eval_time'] = selection['eval_time'].mean()\n",
    "    new_df.loc[i, 'fit_time'] = selection['fit_time'].mean()\n",
    "df = new_df"
   ]
  },
  {
   "cell_type": "code",
   "execution_count": null,
   "metadata": {},
   "outputs": [],
   "source": [
    "images_df = df[df['input_type'] == 'images']\n",
    "features_df = df[df['input_type'] == 'features']"
   ]
  },
  {
   "cell_type": "code",
   "execution_count": null,
   "metadata": {},
   "outputs": [],
   "source": [
    "print(images_df[HYPE])\n",
    "print(features_df[HYPE])"
   ]
  },
  {
   "cell_type": "code",
   "execution_count": null,
   "metadata": {},
   "outputs": [],
   "source": [
    "X = np.arange(3)\n",
    "fig = plt.figure()\n",
    "ax = fig.add_axes([0,0,1,1])\n",
    "ax.bar(X, images_df['fit_time'], color = 'g', width = 0.333, label='raw pixels')\n",
    "ax.bar(X + 0.333, features_df['fit_time'], color = 'r', width = 0.333, label='histogram')\n",
    "\n",
    "ax.set_xticks(X+0.1667, tuple(images_df[HYPE]))\n",
    "\n",
    "plt.title(f\"DLC-2021 - {METHOD_TITLE} - {HYPE_TITLE} vs. Training Time\")\n",
    "plt.ylabel('Training Time (seconds per sample)')\n",
    "plt.legend()\n",
    "plt.show()"
   ]
  },
  {
   "cell_type": "code",
   "execution_count": null,
   "metadata": {},
   "outputs": [],
   "source": [
    "X = np.arange(3)\n",
    "fig = plt.figure()\n",
    "ax = fig.add_axes([0,0,1,1])\n",
    "ax.bar(X, images_df['eval_time'], color = 'g', width = 0.333, label='raw pixels')\n",
    "ax.bar(X + 0.333, features_df['eval_time'], color = 'r', width = 0.333, label='histogram')\n",
    "\n",
    "ax.set_xticks(X+0.1667, tuple(images_df[HYPE]))\n",
    "\n",
    "plt.title(f\"DLC-2021 - {METHOD_TITLE} - {HYPE_TITLE} vs. Evaluation Time\")\n",
    "plt.ylabel('Evaluation Time (seconds per sample)')\n",
    "plt.legend()\n",
    "plt.show()"
   ]
  },
  {
   "cell_type": "code",
   "execution_count": null,
   "metadata": {},
   "outputs": [],
   "source": [
    "X = np.arange(3)\n",
    "fig = plt.figure()\n",
    "ax = fig.add_axes([0,0,1,1])\n",
    "ax.bar(X, images_df['accuracy'], color = 'g', width = 0.333, label='raw pixels')\n",
    "ax.bar(X + 0.333, features_df['accuracy'], color = 'r', width = 0.333, label='histogram')\n",
    "ax.plot([-0.333, 3], [0.5, 0.5],  'b--', label='chance')\n",
    "\n",
    "plt.ylim((0.45, 0.7))\n",
    "\n",
    "ax.set_xticks(X+0.1667, tuple(images_df[HYPE]))\n",
    "\n",
    "plt.title(f\"DLC-2021 - {METHOD_TITLE} - {HYPE_TITLE} vs. Accuracy\")\n",
    "plt.ylabel('Accuracy')\n",
    "plt.legend()\n",
    "plt.show()"
   ]
  },
  {
   "cell_type": "code",
   "execution_count": null,
   "metadata": {},
   "outputs": [],
   "source": [
    "df.sort_values('accuracy').iloc[-1]"
   ]
  },
  {
   "cell_type": "code",
   "execution_count": null,
   "metadata": {},
   "outputs": [],
   "source": []
  }
 ],
 "metadata": {
  "kernelspec": {
   "display_name": "Python 3.8.10 ('venv': venv)",
   "language": "python",
   "name": "python3"
  },
  "language_info": {
   "codemirror_mode": {
    "name": "ipython",
    "version": 3
   },
   "file_extension": ".py",
   "mimetype": "text/x-python",
   "name": "python",
   "nbconvert_exporter": "python",
   "pygments_lexer": "ipython3",
   "version": "3.8.10"
  },
  "orig_nbformat": 4,
  "vscode": {
   "interpreter": {
    "hash": "34e790e7c6ff3e5bdb55f2daf92ca3e0b6efab15b587de18881a1f1c7244c642"
   }
  }
 },
 "nbformat": 4,
 "nbformat_minor": 2
}
