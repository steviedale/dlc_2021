{
 "cells": [
  {
   "cell_type": "code",
   "execution_count": null,
   "metadata": {},
   "outputs": [],
   "source": [
    "from sklearn.ensemble import AdaBoostClassifier\n",
    "from sklearn.tree import DecisionTreeClassifier\n",
    "from imutils import paths\n",
    "import numpy as np\n",
    "import argparse\n",
    "import imutils\n",
    "import cv2\n",
    "import os\n",
    "import matplotlib.pyplot as plt\n",
    "import pandas as pd\n",
    "from tqdm import tqdm\n",
    "import time"
   ]
  },
  {
   "cell_type": "code",
   "execution_count": null,
   "metadata": {},
   "outputs": [],
   "source": [
    "def image_to_feature_vector(image, size=(32, 32)):\n",
    "\t# resize the image to a fixed size, then flatten the image into\n",
    "\t# a list of raw pixel intensities\n",
    "\treturn cv2.resize(image, size).flatten()"
   ]
  },
  {
   "cell_type": "code",
   "execution_count": null,
   "metadata": {},
   "outputs": [],
   "source": [
    "def extract_color_histogram(image, bins=(8, 8, 8)):\n",
    "\t# extract a 3D color histogram from the HSV color space using\n",
    "\t# the supplied number of `bins` per channel\n",
    "\thsv = cv2.cvtColor(image, cv2.COLOR_BGR2HSV)\n",
    "\thist = cv2.calcHist([hsv], [0, 1, 2], None, bins,\n",
    "\t\t[0, 180, 0, 256, 0, 256])\n",
    "\t# handle normalizing the histogram if we are using OpenCV 2.4.X\n",
    "\tif imutils.is_cv2():\n",
    "\t\thist = cv2.normalize(hist)\n",
    "\t# otherwise, perform \"in place\" normalization in OpenCV 3 (I\n",
    "\t# personally hate the way this is done\n",
    "\telse:\n",
    "\t\tcv2.normalize(hist, hist)\n",
    "\t# return the flattened histogram as the feature vector\n",
    "\treturn hist.flatten()"
   ]
  },
  {
   "cell_type": "code",
   "execution_count": null,
   "metadata": {},
   "outputs": [],
   "source": [
    "df = pd.read_csv('../dataset/dataframes/10k.csv')"
   ]
  },
  {
   "cell_type": "code",
   "execution_count": null,
   "metadata": {},
   "outputs": [],
   "source": [
    "# grab the list of images that we'll be describing\n",
    "print(\"[INFO] describing images...\")\n",
    "# initialize the raw pixel intensities matrix, the features matrix,\n",
    "# and labels list\n",
    "images = {}\n",
    "features = {}\n",
    "labels = {}\n",
    "for set_str in df['set'].unique():\n",
    "    images[set_str] = []\n",
    "    features[set_str] = []\n",
    "    labels[set_str] = []"
   ]
  },
  {
   "cell_type": "code",
   "execution_count": null,
   "metadata": {},
   "outputs": [],
   "source": [
    "# loop over the input images\n",
    "print(len(df))\n",
    "for i, row in tqdm(df.iterrows()):\n",
    "\t# load the image and extract the class label (assuming that our\n",
    "\t# path as the format: /path/to/dataset/{class}.{image_num}.jpg\n",
    "\timage = cv2.imread(row['path'])\n",
    "\tlabel = row['label']\n",
    "\t# extract raw pixel intensity \"features\", followed by a color\n",
    "\t# histogram to characterize the color distribution of the pixels\n",
    "\t# in the image\n",
    "\tpixels = image_to_feature_vector(image)\n",
    "\thist = extract_color_histogram(image)\n",
    "\t# update the raw images, features, and labels matricies,\n",
    "\t# respectively\n",
    "\tset_str = row['set']\n",
    "\timages[set_str].append(pixels)\n",
    "\tfeatures[set_str].append(hist)\n",
    "\tlabels[set_str].append(label)"
   ]
  },
  {
   "cell_type": "code",
   "execution_count": null,
   "metadata": {},
   "outputs": [],
   "source": [
    "for set_str in df['set'].unique():\n",
    "    images[set_str] = np.array(images[set_str])\n",
    "    features[set_str] = np.array(features[set_str])\n",
    "    labels[set_str] = np.array(labels[set_str])\n",
    "\n",
    "    print(set_str)\n",
    "    print(\"[INFO] pixels matrix: {:.2f}MB\".format(images[set_str].nbytes / (1024 * 1000.0)))\n",
    "    print(\"[INFO] features matrix: {:.2f}MB\".format(features[set_str].nbytes / (1024 * 1000.0)))"
   ]
  },
  {
   "cell_type": "code",
   "execution_count": null,
   "metadata": {},
   "outputs": [],
   "source": [
    "data = {'input_type': [], 'n': [], 'fit_time': [], 'eval_time': [], 'accuracy': [], 'test_set': []}\n",
    "for n in tqdm((1, 2, 3, 4, 5, 10, 15, 20, 30, 40)):\n",
    "    print(f\"n: {n}\")\n",
    "    for input_type, input_data in ('images', images), ('features', features):\n",
    "        for set_str in df['set'].unique():\n",
    "            train_X = np.concatenate([d for s, d in input_data.items() if s != set_str])\n",
    "            train_y = np.concatenate([d for s, d in labels.items() if s != set_str])\n",
    "            test_X = input_data[set_str]\n",
    "            test_y = labels[set_str]\n",
    "\n",
    "            model = AdaBoostClassifier(base_estimator=DecisionTreeClassifier(criterion='gini', max_depth=10), n_estimators=n, random_state=0)\n",
    "\n",
    "            t0 = time.time()\n",
    "            model.fit(train_X, train_y)\n",
    "            t1 = time.time()\n",
    "            fit_time = (t1 - t0) / len(train_X)\n",
    "\n",
    "            #Predict the response for test dataset\n",
    "            t0 = time.time()\n",
    "            acc = model.score(test_X, test_y)\n",
    "            t1 = time.time()\n",
    "            eval_time = (t1 - t0) / len(test_X)\n",
    "\n",
    "            print(f\"\\tAccuracy: {acc}\")\n",
    "            print(f\"\\tFit Time: {fit_time}\")\n",
    "            print(f\"\\tEval Time: {eval_time}\")\n",
    "\n",
    "            data['input_type'].append(input_type)\n",
    "            data['n'].append(n)\n",
    "            data['fit_time'].append(fit_time)\n",
    "            data['eval_time'].append(eval_time)\n",
    "            data['accuracy'].append(acc)\n",
    "            data['test_set'].append(set_str)\n",
    "\n",
    "            result_df = pd.DataFrame.from_dict(data)\n",
    "            result_df.to_csv('results/data_manual_cv.csv', index=False)"
   ]
  },
  {
   "cell_type": "code",
   "execution_count": null,
   "metadata": {},
   "outputs": [],
   "source": []
  },
  {
   "cell_type": "code",
   "execution_count": null,
   "metadata": {},
   "outputs": [],
   "source": []
  }
 ],
 "metadata": {
  "kernelspec": {
   "display_name": "Python 3.8.10 ('venv': venv)",
   "language": "python",
   "name": "python3"
  },
  "language_info": {
   "codemirror_mode": {
    "name": "ipython",
    "version": 3
   },
   "file_extension": ".py",
   "mimetype": "text/x-python",
   "name": "python",
   "nbconvert_exporter": "python",
   "pygments_lexer": "ipython3",
   "version": "3.8.10"
  },
  "orig_nbformat": 4,
  "vscode": {
   "interpreter": {
    "hash": "34e790e7c6ff3e5bdb55f2daf92ca3e0b6efab15b587de18881a1f1c7244c642"
   }
  }
 },
 "nbformat": 4,
 "nbformat_minor": 2
}
