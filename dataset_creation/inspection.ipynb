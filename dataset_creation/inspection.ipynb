{
 "cells": [
  {
   "cell_type": "code",
   "execution_count": null,
   "metadata": {},
   "outputs": [],
   "source": [
    "import os\n",
    "import pandas as pd\n",
    "import numpy as np"
   ]
  },
  {
   "cell_type": "code",
   "execution_count": null,
   "metadata": {},
   "outputs": [],
   "source": [
    "dir = '/home/stevie/datasets/dlc_2021/border_patch_96/dataframes'\n",
    "os.listdir(dir)"
   ]
  },
  {
   "cell_type": "code",
   "execution_count": null,
   "metadata": {},
   "outputs": [],
   "source": [
    "train_live_df = pd.read_csv(os.path.join(dir, 'train/live.csv'))\n",
    "train_screen_df = pd.read_csv(os.path.join(dir, 'train/screen.csv'))\n",
    "valid_live_df = pd.read_csv(os.path.join(dir, 'valid/live.csv'))\n",
    "valid_screen_df = pd.read_csv(os.path.join(dir, 'valid/screen.csv'))\n",
    "test_live_df = pd.read_csv(os.path.join(dir, 'test/live.csv'))\n",
    "test_screen_df = pd.read_csv(os.path.join(dir, 'test/screen.csv'))"
   ]
  },
  {
   "cell_type": "code",
   "execution_count": null,
   "metadata": {},
   "outputs": [],
   "source": [
    "assert(os.path.exists(valid_screen_df.iloc[0]['path']))"
   ]
  },
  {
   "cell_type": "code",
   "execution_count": null,
   "metadata": {},
   "outputs": [],
   "source": [
    "live_df = pd.concat([train_live_df, valid_live_df, test_live_df])\n",
    "screen_df = pd.concat([train_screen_df, valid_screen_df, test_screen_df])"
   ]
  },
  {
   "cell_type": "code",
   "execution_count": null,
   "metadata": {},
   "outputs": [],
   "source": [
    "print(len(live_df))\n",
    "print(live_df.columns)"
   ]
  },
  {
   "cell_type": "code",
   "execution_count": null,
   "metadata": {},
   "outputs": [],
   "source": [
    "print(len(live_df['document_type'].unique()))\n",
    "print(len(screen_df['document_type'].unique()))"
   ]
  },
  {
   "cell_type": "code",
   "execution_count": null,
   "metadata": {},
   "outputs": [],
   "source": [
    "documents = list(live_df['document_type'].unique())"
   ]
  },
  {
   "cell_type": "code",
   "execution_count": null,
   "metadata": {},
   "outputs": [],
   "source": [
    "set_lists = []\n",
    "for i in range(5):\n",
    "    new_list = []\n",
    "    for j in range(2):\n",
    "        index = i * 2 + j\n",
    "        new_list.append(documents[index])\n",
    "    set_lists.append(new_list)"
   ]
  },
  {
   "cell_type": "code",
   "execution_count": null,
   "metadata": {},
   "outputs": [],
   "source": [
    "set_lists"
   ]
  },
  {
   "cell_type": "code",
   "execution_count": null,
   "metadata": {},
   "outputs": [],
   "source": [
    "for df in live_df, screen_df:\n",
    "    for i, (doc1, doc2) in enumerate(set_lists):\n",
    "        mask = np.logical_or(df['document_type'] == doc1, df['document_type'] == doc2)\n",
    "        df.loc[mask, 'set'] = f\"set_{i}\""
   ]
  },
  {
   "cell_type": "code",
   "execution_count": null,
   "metadata": {},
   "outputs": [],
   "source": [
    "print(live_df['set'].unique())\n",
    "print(screen_df['set'].unique())"
   ]
  },
  {
   "cell_type": "code",
   "execution_count": null,
   "metadata": {},
   "outputs": [],
   "source": [
    "for set_i in screen_df['set'].unique():\n",
    "    print(f\"{set_i}: {np.count_nonzero(screen_df['set'] == set_i)}\")"
   ]
  },
  {
   "cell_type": "code",
   "execution_count": null,
   "metadata": {},
   "outputs": [],
   "source": [
    "dir = '/home/stevie/datasets/dlc_2021/border_patch_96/dataframes/sets'\n",
    "os.mkdir(dir)"
   ]
  },
  {
   "cell_type": "code",
   "execution_count": null,
   "metadata": {},
   "outputs": [],
   "source": [
    "live_df.to_csv(os.path.join(dir, 'live.csv'), index=False)\n",
    "screen_df.to_csv(os.path.join(dir, 'screen.csv'), index=False)"
   ]
  },
  {
   "cell_type": "code",
   "execution_count": null,
   "metadata": {},
   "outputs": [],
   "source": [
    "live_df['label'] = 'live'\n",
    "screen_df['label'] = 'screen'\n",
    "df = pd.concat([live_df, screen_df])\n",
    "df.to_csv(os.path.join(dir, 'all.csv'))"
   ]
  },
  {
   "cell_type": "code",
   "execution_count": null,
   "metadata": {},
   "outputs": [],
   "source": []
  }
 ],
 "metadata": {
  "kernelspec": {
   "display_name": "Python 3.8.10 ('venv': venv)",
   "language": "python",
   "name": "python3"
  },
  "language_info": {
   "codemirror_mode": {
    "name": "ipython",
    "version": 3
   },
   "file_extension": ".py",
   "mimetype": "text/x-python",
   "name": "python",
   "nbconvert_exporter": "python",
   "pygments_lexer": "ipython3",
   "version": "3.8.10"
  },
  "orig_nbformat": 4,
  "vscode": {
   "interpreter": {
    "hash": "34e790e7c6ff3e5bdb55f2daf92ca3e0b6efab15b587de18881a1f1c7244c642"
   }
  }
 },
 "nbformat": 4,
 "nbformat_minor": 2
}
